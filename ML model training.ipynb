{
 "cells": [
  {
   "cell_type": "markdown",
   "metadata": {
    "heading_collapsed": true
   },
   "source": [
    "## Product Color Classification\n",
    "\n",
    "This project makes use of [FastAI](https://fast.ai) library to train a product color classifier on the [Digikala](https://digikala.com) product dataset released as part of their [data science](https://quera.ir/contest/assignments/20120/problems) competition."
   ]
  },
  {
   "cell_type": "code",
   "execution_count": null,
   "metadata": {
    "hidden": true,
    "scrolled": true
   },
   "outputs": [],
   "source": [
    "#hide\n",
    "from fastai.vision.all import *\n",
    "from PIL import Image\n",
    "\n",
    "import os\n",
    "import ssl\n",
    "ssl._create_default_https_context = ssl._create_unverified_context"
   ]
  },
  {
   "cell_type": "code",
   "execution_count": null,
   "metadata": {
    "hidden": true
   },
   "outputs": [],
   "source": [
    "# variables\n",
    "train_path = Path(\"train\")\n",
    "test_path = Path(\"test\")\n",
    "\n",
    "img_height = img_width = 224\n",
    "nb_epoch = 50\n",
    "batch_size = 32\n",
    "nb_classes = len(os.listdir(training_dir))"
   ]
  },
  {
   "cell_type": "code",
   "execution_count": null,
   "metadata": {
    "hidden": true
   },
   "outputs": [],
   "source": [
    "def get_color(file_path): return str(file_path).split(\"/\")[1] \n",
    "\n",
    "dls = ImageDataLoaders.from_path_func(train_path, get_image_files(train_path), \n",
    "                                      label_func=get_color, seed=42, valid_pct=0.2,\n",
    "                                      item_tfms=Resize(224))\n",
    "learn = cnn_learner(dls, resnet34, metrics=error_rate)\n",
    "\n",
    "learn.fine_tune(1)"
   ]
  },
  {
   "cell_type": "code",
   "execution_count": null,
   "metadata": {
    "hidden": true
   },
   "outputs": [],
   "source": [
    "# functions\n",
    "\n",
    "def plot_training(H, N, plotPath):\n",
    "    # construct a plot that plots and saves the training history\n",
    "    plt.style.use(\"ggplot\")\n",
    "    plt.figure()\n",
    "    plt.plot(np.arange(0, N), H.history[\"loss\"], label=\"train_loss\")\n",
    "    plt.plot(np.arange(0, N), H.history[\"val_loss\"], label=\"val_loss\")\n",
    "    plt.plot(np.arange(0, N), H.history[\"accuracy\"], label=\"train_acc\")\n",
    "    plt.plot(np.arange(0, N), H.history[\"val_accuracy\"], label=\"val_acc\")\n",
    "    plt.title(\"Training Loss and Accuracy\")\n",
    "    plt.xlabel(\"Epoch #\")\n",
    "    plt.ylabel(\"Loss/Accuracy\")\n",
    "    plt.legend(loc=\"lower left\")\n",
    "    plt.savefig(plotPath)\n",
    "    \n",
    "def show_image(x):\n",
    "    \"\"\"show the input image x\n",
    "    Arguments:\n",
    "        x {numpy array} -- input image x as a 3-dimensional numpay array\n",
    "    Returns:\n",
    "        None\n",
    "    \"\"\"\n",
    "\n",
    "    plt.imshow(x)\n",
    "    \n",
    "def load(filename):\n",
    "    np_image = Image.open(filename)\n",
    "    np_image = np.array(np_image).astype('float32')/255\n",
    "    np_image = transform.resize(np_image, (img_height, img_width, 3))\n",
    "    np_image = np.expand_dims(np_image, axis=0)\n",
    "    return np_image"
   ]
  },
  {
   "cell_type": "code",
   "execution_count": null,
   "metadata": {
    "hidden": true
   },
   "outputs": [],
   "source": [
    "train_datagen = ImageDataGenerator(rescale=1./255, rotation_range=20)\n",
    "train_generator = train_datagen.flow_from_directory(training_dir, target_size=(img_height, img_width), batch_size=batch_size)\n",
    "\n",
    "# test_datagen = ImageDataGenerator(rescale=1./255)\n",
    "# test_generator = validation_datagen.flow_from_directory(test_dir,target_size=(img_height, img_width),batch_size=batch_size)\n",
    "\n",
    "# load the VGG16 network, ensuring the head FC layer sets are left\n",
    "# off\n",
    "\n",
    "baseModel = MobileNetV2(weights=\"imagenet\", include_top=False, input_shape=(img_height, img_width, 3))\n",
    "\n",
    "for layer in baseModel.layers:\n",
    "    layer.trainable = False\n",
    "\n",
    "# construct the head of the model that will be placed on top of the\n",
    "# the base model\n",
    "# x=baseModel.output\n",
    "# x=GlobalAveragePooling2D()(x)\n",
    "# x=Dense(1024,activation='relu')(x) #we add dense layers so that the model can learn more complex functions and classify for better results.\n",
    "# x=Dense(1024,activation='relu')(x) #dense layer 2\n",
    "# x=Dense(512,activation='relu')(x) #dense layer 3\n",
    "# preds=Dense(nb_classes,activation='softmax')(x) #final layer with softmax activation\n",
    "\n",
    "# model = Model(inputs=baseModel.input, outputs=preds)\n",
    "\n",
    "# construct the head of the model that will be placed on top of the\n",
    "# the base model\n",
    "headModel = baseModel.output\n",
    "headModel = Flatten(name=\"flatten\")(headModel)\n",
    "headModel = Dense(512, activation=\"relu\")(headModel)\n",
    "headModel = Dropout(0.5)(headModel)\n",
    "headModel = Dense(nb_classes, activation=\"softmax\",activity_regularizer=L2(0.01))(headModel)\n",
    "# place the head FC model on top of the base model (this will become\n",
    "# the actual model we will train)\n",
    "model = Model(inputs=baseModel.input, outputs=headModel)\n",
    "\n",
    "model.compile(loss=\"categorical_crossentropy\", optimizer='adamax', metrics=[Precision()])\n",
    "\n",
    "print(\"[INFO] training head...\")\n",
    "H = model.fit(train_generator,\n",
    "              steps_per_epoch=totalTrain // batch_size,\n",
    "              epochs=nb_epoch)"
   ]
  },
  {
   "cell_type": "code",
   "execution_count": null,
   "metadata": {
    "hidden": true
   },
   "outputs": [],
   "source": [
    "train_generator.class_indices.keys()"
   ]
  },
  {
   "cell_type": "code",
   "execution_count": null,
   "metadata": {
    "hidden": true
   },
   "outputs": [],
   "source": [
    "# prediction\n",
    "\n",
    "decode_mapping = ['black', 'blue', 'brown', 'green', 'grey', 'orange', 'pink', 'purple', 'red', 'silver', 'white', 'yellow']\n",
    "\n",
    "encode_mapping = {'pink':1,\n",
    "           'purple':2,\n",
    "           'yellow':3,\n",
    "           'orange':4,\n",
    "           'white':5,\n",
    "           'silver':6,\n",
    "           'grey':7,\n",
    "           'black':8,\n",
    "           'red':9,\n",
    "           'brown':10,\n",
    "           'green':11,\n",
    "           'blue':12,\n",
    "}\n",
    "\n",
    "results = []\n",
    "for file in os.listdir(test_dir):\n",
    "    dic = {}\n",
    "    img = load(test_dir+file)\n",
    "    y_prob = model.predict(img)\n",
    "    y_classes = decode_mapping[y_prob.argmax(axis=-1)[0]]\n",
    "    dic['file_name'] = file\n",
    "    dic['color_id'] = encode_mapping[y_classes]\n",
    "    results.append(dic)"
   ]
  },
  {
   "cell_type": "code",
   "execution_count": null,
   "metadata": {
    "hidden": true
   },
   "outputs": [],
   "source": [
    "pd.DataFrame(results).to_csv(\"results_q4.csv\",index=False)"
   ]
  }
 ],
 "metadata": {
  "kernelspec": {
   "display_name": "Python 3",
   "language": "python",
   "name": "python3"
  },
  "language_info": {
   "codemirror_mode": {
    "name": "ipython",
    "version": 3
   },
   "file_extension": ".py",
   "mimetype": "text/x-python",
   "name": "python",
   "nbconvert_exporter": "python",
   "pygments_lexer": "ipython3",
   "version": "3.8.3"
  }
 },
 "nbformat": 4,
 "nbformat_minor": 4
}
